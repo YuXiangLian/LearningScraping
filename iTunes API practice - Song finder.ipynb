{
 "cells": [
  {
   "cell_type": "code",
   "execution_count": 13,
   "metadata": {},
   "outputs": [],
   "source": [
    "# Import the relevant modules\n",
    "import requests\n",
    "import json"
   ]
  },
  {
   "cell_type": "code",
   "execution_count": null,
   "metadata": {},
   "outputs": [],
   "source": [
    "# The documentation for this particular API can be found here:\n",
    "# https://affiliate.itunes.apple.com/resources/documentation/itunes-store-web-service-search-api/"
   ]
  },
  {
   "cell_type": "code",
   "execution_count": 2,
   "metadata": {},
   "outputs": [],
   "source": [
    "# define base URL\n",
    "base_site = \"https://itunes.apple.com/search\""
   ]
  },
  {
   "cell_type": "code",
   "execution_count": null,
   "metadata": {},
   "outputs": [],
   "source": [
    "# Make a request\n",
    "r = requests.get(base_site, params = {\"term\": \"the beatles\", \"country\": \"us\", \"limit\": 200})\n",
    "r.status_code"
   ]
  },
  {
   "cell_type": "code",
   "execution_count": null,
   "metadata": {},
   "outputs": [],
   "source": [
    "# Store the response\n",
    "info = r.json()"
   ]
  },
  {
   "cell_type": "markdown",
   "metadata": {},
   "source": [
    "### Inspect the structure of the response"
   ]
  },
  {
   "cell_type": "code",
   "execution_count": 3,
   "metadata": {},
   "outputs": [
    {
     "data": {
      "text/plain": [
       "200"
      ]
     },
     "execution_count": 3,
     "metadata": {},
     "output_type": "execute_result"
    }
   ],
   "source": [
    "r1 = requests.get(base_site)\n",
    "r1.status_code"
   ]
  },
  {
   "cell_type": "code",
   "execution_count": 52,
   "metadata": {},
   "outputs": [
    {
     "data": {
      "text/plain": [
       "dict_keys(['resultCount', 'results'])"
      ]
     },
     "execution_count": 52,
     "metadata": {},
     "output_type": "execute_result"
    }
   ],
   "source": [
    "r = requests.get(base_site, params = {\"term\": \"baby\" + \" Justin Bieber\" , \"media\":\"music\"})\n",
    "\n",
    "data = r.json()\n",
    "data.keys()"
   ]
  },
  {
   "cell_type": "markdown",
   "metadata": {},
   "source": [
    "### Finding release date"
   ]
  },
  {
   "cell_type": "code",
   "execution_count": null,
   "metadata": {},
   "outputs": [],
   "source": []
  },
  {
   "cell_type": "code",
   "execution_count": 51,
   "metadata": {},
   "outputs": [
    {
     "name": "stdout",
     "output_type": "stream",
     "text": [
      "Please enter Song title: way back home\n",
      "Please enter artist name: shaun\n",
      "way back home by shaun is released in 2018-12-21\n"
     ]
    }
   ],
   "source": [
    "trackName = input(\"Please enter Song title: \")\n",
    "artist = input(\"Please enter artist name: \")\n",
    "r2 = requests.get(base_site, params = {\"term\": trackName + \" \" + artist, \"media\": \"music\"})\n",
    "\n",
    "if(r2.ok) :\n",
    "    data = r2.json()\n",
    "    release = data[\"results\"][0][\"releaseDate\"][0:10]\n",
    "    print(\"\" + trackName + \" by \" + artist + \" is released in \" + release)\n",
    "else:\n",
    "    print(r2.status_code)\n",
    "    "
   ]
  },
  {
   "cell_type": "code",
   "execution_count": null,
   "metadata": {},
   "outputs": [],
   "source": []
  },
  {
   "cell_type": "markdown",
   "metadata": {},
   "source": [
    "### Print the name of all songs"
   ]
  },
  {
   "cell_type": "code",
   "execution_count": 61,
   "metadata": {},
   "outputs": [
    {
     "name": "stdout",
     "output_type": "stream",
     "text": [
      "artist name: BTS\n",
      "Daydream released 2018-03-02\n",
      "Base Line released 2018-03-02\n",
      "SUGA's Interlude released 2019-12-06\n",
      "Hope World released 2018-03-02\n",
      "Sweet Night released 2020-03-13\n",
      "P.O.P (Piece of Peace), Pt. 1 released 2018-03-02\n",
      "Blue Side (Outro) released 2018-03-02\n",
      "Airplane released 2018-03-02\n",
      "HANGSANG (feat. Supreme Boi) released 2018-03-02\n",
      "Chicken Noodle Soup (feat. Becky G.) released 2019-09-27\n",
      "It's Definitely You released 2016-12-20\n",
      "Daechwita released 2020-05-22\n",
      "Give It to Me released 2016-08-16\n",
      "Burn It (feat. MAX) released 2020-05-22\n",
      "Tony Montana (feat. Yankie) released 2016-08-16\n",
      "140503 at Dawn released 2016-08-16\n",
      "Dear my friend (feat. Kim Jong Wan) released 2020-05-22\n",
      "Moonlight released 2020-05-22\n",
      "724148 released 2016-08-16\n",
      "So Far Away (feat. Suran) released 2016-08-16\n",
      "Strange (feat. RM) released 2020-05-22\n",
      "What do you think? released 2020-05-22\n",
      "People released 2020-05-22\n",
      "The Last released 2016-08-16\n",
      "Honsool released 2020-05-22\n",
      "Interlude : Set me free released 2020-05-22\n",
      "28 (feat. NiiHWA) released 2020-05-22\n",
      "Interlude_dream, Reality released 2016-08-16\n",
      "Skit released 2016-08-16\n",
      "Dynamite released 2020-08-21\n",
      "Sweet Night released 2020-03-13\n",
      "Butter released 2021-05-21\n",
      "Sweet Night (Instrumental) released 2020-03-13\n",
      "Old Town Road (feat. RM of BTS) released 2019-07-24\n",
      "Burning Up (Fire) released 2016-05-02\n",
      "Save Me released 2016-05-02\n",
      "SUGA's Interlude released 2019-12-06\n",
      "ON released 2020-02-21\n",
      "Savage Love (Laxed - Siren Beat) released 2020-10-02\n",
      "MIC Drop (feat. Desiigner) [Steve Aoki Remix] released 2017-11-24\n",
      "It's Definitely You released 2016-12-20\n",
      "Blood Sweat & Tears released 2016-10-10\n",
      "Blue & Grey released 2020-11-20\n",
      "MIC Drop released 2017-09-18\n",
      "Boy With Luv (feat. Halsey) released 2019-04-12\n",
      "Dope released 2015-04-29\n",
      "Filter released 2020-02-21\n",
      "Not Today released 2017-02-13\n",
      "DNA released 2017-09-18\n",
      "Pied Piper released 2017-09-18\n"
     ]
    }
   ],
   "source": [
    "artist = input(\"artist name: \")\n",
    "r3 = requests.get(base_site,params = {\"term\": artist, \"media\": \"music\", \"country\": \"us\"})\n",
    "if(r3.ok):\n",
    "    data = r3.json()\n",
    "    if(data[\"resultCount\"] == 0) :\n",
    "        print(\"No search result\")\n",
    "    \n",
    "    info = data[\"results\"]\n",
    "    for result in info:\n",
    "        print(result[\"trackName\"] + \" released \" + result[\"releaseDate\"][0:10])\n",
    "else:\n",
    "    print(r3.status_code)"
   ]
  },
  {
   "cell_type": "markdown",
   "metadata": {},
   "source": []
  },
  {
   "cell_type": "code",
   "execution_count": null,
   "metadata": {},
   "outputs": [],
   "source": []
  }
 ],
 "metadata": {
  "kernelspec": {
   "display_name": "Python 3",
   "language": "python",
   "name": "python3"
  },
  "language_info": {
   "codemirror_mode": {
    "name": "ipython",
    "version": 3
   },
   "file_extension": ".py",
   "mimetype": "text/x-python",
   "name": "python",
   "nbconvert_exporter": "python",
   "pygments_lexer": "ipython3",
   "version": "3.8.8"
  }
 },
 "nbformat": 4,
 "nbformat_minor": 2
}
