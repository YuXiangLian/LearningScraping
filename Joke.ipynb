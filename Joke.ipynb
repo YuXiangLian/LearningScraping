{
 "cells": [
  {
   "cell_type": "code",
   "execution_count": 5,
   "id": "70fd7fc9",
   "metadata": {},
   "outputs": [],
   "source": [
    "import requests\n",
    "import json"
   ]
  },
  {
   "cell_type": "code",
   "execution_count": null,
   "id": "b8d617e5",
   "metadata": {},
   "outputs": [],
   "source": [
    "base = \"https://official-joke-api.appspot.com/random_joke\""
   ]
  },
  {
   "cell_type": "code",
   "execution_count": 30,
   "id": "97242bc1",
   "metadata": {},
   "outputs": [
    {
     "name": "stdout",
     "output_type": "stream",
     "text": [
      "Hi, Would you like me to tell you a joke?yes\n",
      "Where was the Declaration of Independence signed?\n",
      "1999\n",
      "At the bottom! \n"
     ]
    }
   ],
   "source": [
    "joke = input(\"Hi, Would you like me to tell you a joke?\")\n",
    "\n",
    "if (joke.lower() == \"no\") :\n",
    "    print(\"Thats too bad , Jokes on you\")\n",
    "elif (joke.lower() == \"yes\") : \n",
    "    r = requests.get(base)\n",
    "    data = r.json()\n",
    "    setup = data['setup']\n",
    "    punchline = data['punchline']\n",
    "    print(setup)\n",
    "    reply = input()\n",
    "    if(reply) :\n",
    "        print(punchline)\n",
    "else:\n",
    "    print(\"no such reply\")\n",
    "    \n",
    "    \n"
   ]
  },
  {
   "cell_type": "code",
   "execution_count": 22,
   "id": "530a24ea",
   "metadata": {},
   "outputs": [
    {
     "data": {
      "text/plain": [
       "{'id': 96,\n",
       " 'type': 'general',\n",
       " 'setup': 'Did you hear about the scientist who was lab partners with a pot of boiling water?',\n",
       " 'punchline': 'He had a very esteemed colleague.'}"
      ]
     },
     "execution_count": 22,
     "metadata": {},
     "output_type": "execute_result"
    }
   ],
   "source": []
  }
 ],
 "metadata": {
  "kernelspec": {
   "display_name": "Python 3",
   "language": "python",
   "name": "python3"
  },
  "language_info": {
   "codemirror_mode": {
    "name": "ipython",
    "version": 3
   },
   "file_extension": ".py",
   "mimetype": "text/x-python",
   "name": "python",
   "nbconvert_exporter": "python",
   "pygments_lexer": "ipython3",
   "version": "3.8.8"
  }
 },
 "nbformat": 4,
 "nbformat_minor": 5
}
