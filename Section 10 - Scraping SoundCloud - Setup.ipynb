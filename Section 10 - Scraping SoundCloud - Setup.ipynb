{
 "cells": [
  {
   "cell_type": "markdown",
   "metadata": {},
   "source": [
    "# Scraping SoundCoud"
   ]
  },
  {
   "cell_type": "markdown",
   "metadata": {},
   "source": [
    "## Initial Setup"
   ]
  },
  {
   "cell_type": "code",
   "execution_count": 1,
   "metadata": {},
   "outputs": [],
   "source": [
    "# import packages\n",
    "import requests\n",
    "from bs4 import BeautifulSoup"
   ]
  },
  {
   "cell_type": "code",
   "execution_count": 2,
   "metadata": {},
   "outputs": [],
   "source": [
    "from requests_html import AsyncHTMLSession"
   ]
  },
  {
   "cell_type": "code",
   "execution_count": null,
   "metadata": {},
   "outputs": [],
   "source": []
  },
  {
   "cell_type": "markdown",
   "metadata": {},
   "source": [
    "## Connect to SoundCloud"
   ]
  },
  {
   "cell_type": "code",
   "execution_count": 3,
   "metadata": {},
   "outputs": [],
   "source": [
    "# make connection to webpage\n",
    "resp = requests.get(\"https://soundcloud.com/discover\")"
   ]
  },
  {
   "cell_type": "code",
   "execution_count": 4,
   "metadata": {},
   "outputs": [],
   "source": [
    "# get HTML from response object\n",
    "html = resp.content"
   ]
  },
  {
   "cell_type": "code",
   "execution_count": 5,
   "metadata": {},
   "outputs": [],
   "source": [
    "# convert HTML to BeautifulSoup object\n",
    "soup = BeautifulSoup(html, \"lxml\")"
   ]
  },
  {
   "cell_type": "code",
   "execution_count": null,
   "metadata": {},
   "outputs": [],
   "source": []
  },
  {
   "cell_type": "markdown",
   "metadata": {},
   "source": [
    "## Get links on the webpage.  Notice how this doesn't extract all the links visible on the webpage...what can we do about that?"
   ]
  },
  {
   "cell_type": "code",
   "execution_count": 6,
   "metadata": {},
   "outputs": [
    {
     "data": {
      "text/plain": [
       "[<a class=\"header__logoLink sc-border-box sc-ir\" href=\"/\" title=\"Home\">SoundCloud</a>,\n",
       " <a class=\"sc-button sc-button-medium\" href=\"http://www.enable-javascript.com/\" target=\"_blank\">Show me how to enable it</a>,\n",
       " <a href=\"https://help.soundcloud.com/hc/articles/115003564308-Technical-requirements\">Need help?</a>,\n",
       " <a href=\"http://google.com/chrome\" target=\"_blank\" title=\"Chrome\">Chrome</a>,\n",
       " <a href=\"http://firefox.com\" target=\"_blank\" title=\"Firefox\">Firefox</a>,\n",
       " <a href=\"http://apple.com/safari\" target=\"_blank\" title=\"Safari\">Safari</a>,\n",
       " <a href=\"http://windows.microsoft.com/ie\" target=\"_blank\" title=\"Internet Explorer\">Internet Explorer</a>,\n",
       " <a class=\"sc-button\" href=\"https://help.soundcloud.com\" id=\"try-again\" target=\"_blank\">I need help</a>,\n",
       " <a href=\"/popular/searches\" title=\"Popular searches\">Popular searches</a>]"
      ]
     },
     "execution_count": 6,
     "metadata": {},
     "output_type": "execute_result"
    }
   ],
   "source": [
    "soup.find_all(\"a\")"
   ]
  },
  {
   "cell_type": "code",
   "execution_count": null,
   "metadata": {},
   "outputs": [],
   "source": []
  },
  {
   "cell_type": "markdown",
   "metadata": {},
   "source": [
    "## 1) Use requests-html to extract other links on the page by executing JavaScript.  How many links do you see now?\n",
    "## 2) After you complete 1), get the text of the new paragraphs now visible in the HTML.\n",
    "## 3) Try out a few other tags - what else appears after executing the JavaScript?\n",
    "## 4) Using a CSS selector, extract the meta tag with name = \"keywords\".  Can you get this tag's attributes?\n",
    "## 5) Links that automatically open to a new a tab are identified by having a \"target\" attribute equal to \"_blank\".  Try extracting these links and their URLs."
   ]
  },
  {
   "cell_type": "code",
   "execution_count": 7,
   "metadata": {},
   "outputs": [],
   "source": [
    "session =  AsyncHTMLSession()"
   ]
  },
  {
   "cell_type": "code",
   "execution_count": 8,
   "metadata": {},
   "outputs": [
    {
     "data": {
      "text/plain": [
       "200"
      ]
     },
     "execution_count": 8,
     "metadata": {},
     "output_type": "execute_result"
    }
   ],
   "source": [
    "r = await session.get(\"https://soundcloud.com/discover\")\n",
    "r.status_code"
   ]
  },
  {
   "cell_type": "code",
   "execution_count": 15,
   "metadata": {},
   "outputs": [
    {
     "name": "stderr",
     "output_type": "stream",
     "text": [
      "[W:pyppeteer.chromium_downloader] start chromium download.\n",
      "Download may take a few minutes.\n",
      "100%|███████████████████████████████████████████████████████████████| 136913619/136913619 [00:20<00:00, 6693420.11it/s]\n",
      "[W:pyppeteer.chromium_downloader] \n",
      "chromium download done.\n",
      "[W:pyppeteer.chromium_downloader] chromium extracted to: C:\\Users\\Lian\\AppData\\Local\\pyppeteer\\pyppeteer\\local-chromium\\588429\n"
     ]
    }
   ],
   "source": [
    "await r.html.arender()"
   ]
  },
  {
   "cell_type": "code",
   "execution_count": 52,
   "metadata": {},
   "outputs": [
    {
     "data": {
      "text/plain": [
       "[<Element 'a' href='/' title='Home' class=('header__logoLink', 'header__logoLink-iconOnly', 'sc-border-box', 'sc-ir')>,\n",
       " <Element 'a' href='/' title='Home' class=('header__logoLink', 'header__logoLink-wordmark', 'sc-border-box', 'sc-ir')>,\n",
       " <Element 'a' class=('header__navMenuItem', 'selected') data-menu-name='home' href='/discover'>,\n",
       " <Element 'a' class=('header__navMenuItem',) data-menu-name='stream' href='/stream'>,\n",
       " <Element 'a' class=('header__navMenuItem',) data-menu-name='library' href='/you/library'>,\n",
       " <Element 'a' href='/upload' class=('uploadButton', 'header__link') tabindex='0'>,\n",
       " <Element 'a' href='' class=('header__moreButton', 'sc-ir') tabindex='0' aria-haspopup='true' role='button' aria-owns='dropdown-button-83'>,\n",
       " <Element 'a' href='https://itunes.apple.com/us/app/soundcloud/id336353151?mt=8' target='_blank' class=('mobileAppsButtons__button', 'mobileAppsButtons__appStore', 'g-appStoreButton', 'g-appStoreButton__appStore', 'sc-ir')>,\n",
       " <Element 'a' href='https://play.google.com/store/apps/details?id=com.soundcloud.android&hl=us&referrer=utm_source%3Dsoundcloud%26utm_medium%3Dweb%26utm_campaign%3Dweb_xsell_discover_page' target='_blank' class=('mobileAppsButtons__button', 'mobileAppsButtons__googlePlay', 'g-appStoreButton', 'g-appStoreButton__googlePlay', 'sc-ir')>,\n",
       " <Element 'a' class=('sc-link-verylight', 'sc-link-secondary') href='/terms-of-use' title='Terms of use'>,\n",
       " <Element 'a' class=('sc-link-verylight', 'sc-link-secondary') href='/pages/privacy' title='Privacy policy'>,\n",
       " <Element 'a' class=('sc-link-verylight', 'sc-link-secondary') href='/pages/cookies' title='Cookie Policy'>,\n",
       " <Element 'a' class=('cookie-manager', 'sc-link-verylight', 'sc-link-secondary') cursor='pointer' href='#' title='Cookie Manager'>,\n",
       " <Element 'a' class=('sc-link-verylight', 'sc-link-secondary') href='/imprint' title='Company information'>,\n",
       " <Element 'a' class=('sc-link-verylight', 'sc-link-secondary') href='//creators.soundcloud.com' target='_blank' title='Creator Resources'>,\n",
       " <Element 'a' class=('sc-link-verylight', 'sc-link-secondary') href='//blog.soundcloud.com' target='_blank' title='SoundCloud blog'>,\n",
       " <Element 'a' class=('sc-link-verylight', 'sc-link-secondary') href='/charts/top' title='Charts'>,\n",
       " <Element 'a' type='button' class=('localeSelector', 'sc-pointer') tabindex='0' aria-haspopup='true' role='button' aria-owns='dropdown-button-74'>,\n",
       " <Element 'a' href='https://soundcloud.com/pages/cookies' class=('privacy-notice-link',) rel=('noopener',) target='_blank' aria-label='More information about your privacy, opens in a new window'>,\n",
       " <Element 'a' href='https://onetrust.com/poweredbyonetrust' target='_blank' rel=('noopener', 'noreferrer') style='background-image: url(\"https://cdn.cookielaw.org/logos/static/poweredBy_ot_logo.svg\")' aria-label='Powered by OneTrust Opens in a new window'>]"
      ]
     },
     "execution_count": 52,
     "metadata": {},
     "output_type": "execute_result"
    }
   ],
   "source": [
    "links = r.html.find(\"a\")\n",
    "links\n"
   ]
  },
  {
   "cell_type": "code",
   "execution_count": 19,
   "metadata": {},
   "outputs": [
    {
     "data": {
      "text/plain": [
       "13"
      ]
     },
     "execution_count": 19,
     "metadata": {},
     "output_type": "execute_result"
    }
   ],
   "source": [
    "len(soup.find_all(\"div\"))"
   ]
  },
  {
   "cell_type": "code",
   "execution_count": 20,
   "metadata": {},
   "outputs": [
    {
     "data": {
      "text/plain": [
       "150"
      ]
     },
     "execution_count": 20,
     "metadata": {},
     "output_type": "execute_result"
    }
   ],
   "source": [
    "len(r.html.find(\"div\"))"
   ]
  },
  {
   "cell_type": "code",
   "execution_count": 42,
   "metadata": {},
   "outputs": [
    {
     "data": {
      "text/plain": [
       "{'content': 'record, sounds, share, sound, audio, tracks, music, soundcloud',\n",
       " 'name': 'keywords'}"
      ]
     },
     "execution_count": 42,
     "metadata": {},
     "output_type": "execute_result"
    }
   ],
   "source": [
    "key = r.html.find(\"meta[name=keywords]\")\n",
    "key[0].attrs"
   ]
  },
  {
   "cell_type": "code",
   "execution_count": 79,
   "metadata": {},
   "outputs": [
    {
     "data": {
      "text/plain": [
       "['https://itunes.apple.com/us/app/soundcloud/id336353151?mt=8',\n",
       " 'https://play.google.com/store/apps/details?id=com.soundcloud.android&hl=us&referrer=utm_source%3Dsoundcloud%26utm_medium%3Dweb%26utm_campaign%3Dweb_xsell_discover_page',\n",
       " '//creators.soundcloud.com',\n",
       " '//blog.soundcloud.com',\n",
       " 'https://soundcloud.com/pages/cookies',\n",
       " 'https://onetrust.com/poweredbyonetrust']"
      ]
     },
     "execution_count": 79,
     "metadata": {},
     "output_type": "execute_result"
    }
   ],
   "source": [
    "link2 = r.html.find(\"[target=_blank]\")\n",
    "url = [l2.attrs['href'] for l2 in link2]\n",
    "url\n"
   ]
  },
  {
   "cell_type": "code",
   "execution_count": null,
   "metadata": {},
   "outputs": [],
   "source": []
  }
 ],
 "metadata": {
  "kernelspec": {
   "display_name": "Python 3",
   "language": "python",
   "name": "python3"
  },
  "language_info": {
   "codemirror_mode": {
    "name": "ipython",
    "version": 3
   },
   "file_extension": ".py",
   "mimetype": "text/x-python",
   "name": "python",
   "nbconvert_exporter": "python",
   "pygments_lexer": "ipython3",
   "version": "3.8.8"
  }
 },
 "nbformat": 4,
 "nbformat_minor": 2
}
